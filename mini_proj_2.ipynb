{
 "cells": [
  {
   "cell_type": "markdown",
   "metadata": {},
   "source": [
    "## Imports"
   ]
  },
  {
   "cell_type": "code",
   "execution_count": 44,
   "metadata": {},
   "outputs": [],
   "source": [
    "import pandas as pd\n"
   ]
  },
  {
   "cell_type": "code",
   "execution_count": 45,
   "metadata": {},
   "outputs": [],
   "source": [
    "\n",
    "# Paths\n",
    "trial_points = \"mini_project_2_data/events_file_ordered.csv\"\n",
    "ecog_data = \"mini_project_2_data/brain_data_channel_one.csv\"\n",
    "\n",
    "# Other variables\n",
    "start_event_position = 0\n",
    "finger_column_num = 2"
   ]
  },
  {
   "cell_type": "markdown",
   "metadata": {},
   "source": [
    "## Importing the data\n"
   ]
  },
  {
   "cell_type": "code",
   "execution_count": null,
   "metadata": {},
   "outputs": [],
   "source": []
  },
  {
   "cell_type": "markdown",
   "metadata": {},
   "source": [
    "## Function Implementation"
   ]
  },
  {
   "cell_type": "code",
   "execution_count": 64,
   "metadata": {},
   "outputs": [
    {
     "name": "stdout",
     "output_type": "stream",
     "text": [
      "Warning: Non-integer values found in file 'mini_project_2_data/events_file_ordered.csv'. Attempting to convert.\n"
     ]
    }
   ],
   "source": [
    "\n",
    "def calc_mean_erp(trial_points, ecog_data):\n",
    "\n",
    "    events_dictionary = {finger: [] for finger in range(1, 6)}\n",
    "    averages_dictionary = {finger: [] for finger in range(1, 6)}\n",
    "\n",
    "    # 3 colums: starting point of every movement, the peak of every movement and the number finger \n",
    "    finger_movement = pd.read_csv(trial_points)\n",
    "    \n",
    "    electrode_data = pd.read_csv(ecog_data)\n",
    "\n",
    "    # Validate trial_points is of integer values\n",
    "    if not pd.api.types.is_integer_dtype(finger_movement):\n",
    "        print(f\"Warning: Non-integer values found in file '{trial_points}'. Attempting to convert.\")    \n",
    "        finger_movement = finger_movement.apply(pd.to_numeric, errors='coerce').fillna(0).astype(int)\n",
    "\n",
    "    # Getting the electrode data for each event, storing in events_dictionary\n",
    "    for finger in events_dictionary:\n",
    "        events_for_finger= finger_movement[finger_movement.iloc[:, finger_column_num] == finger]\n",
    "        for index, row in events_for_finger.iterrows():\n",
    "            row_num = row.iloc[start_event_position] \n",
    "            electrode_slice = electrode_data.iloc[row_num-200:row_num+1001 , :].reset_index(drop=True)\n",
    "            events_dictionary[finger].append(electrode_slice)\n",
    "\n",
    "        if events_dictionary[finger]:\n",
    "            combined_slices = pd.concat(events_dictionary[finger], axis=1)\n",
    "            averages_dictionary[finger] = combined_slices.mean(axis=1).tolist()\n",
    "\n",
    "    return averages_dictionary\n",
    "        # Pad the lists to ensure equal length\n",
    "    # max_length = max(len(avg) for avg in averages_dictionary.values())\n",
    "    # for finger in averages_dictionary:\n",
    "    #     averages_dictionary[finger].extend([float(\"nan\")] * (max_length - len(averages_dictionary[finger])))\n",
    "    # Making the averaged lists\n",
    "    # for finger in events_dictionary:\n",
    "        # for milisecond in range (1201):\n",
    "        #     sum = 0\n",
    "        #     for event in events_dictionary[finger]:\n",
    "        #         sum += event[milisecond]\n",
    "    \n",
    "\n",
    "\n",
    "\n",
    "\n",
    "\n",
    "\n",
    "fingers_erp_mean = calc_mean_erp(trial_points, ecog_data) \n",
    "\n",
    "df = pd.DataFrame(fingers_erp_mean)\n",
    "df.to_csv(\"output.csv\", header=False, index=False)"
   ]
  },
  {
   "cell_type": "code",
   "execution_count": 47,
   "metadata": {},
   "outputs": [],
   "source": [
    "# Helper Functions\n",
    "def plot_graph(df):\n",
    "    return"
   ]
  }
 ],
 "metadata": {
  "kernelspec": {
   "display_name": "Python 3",
   "language": "python",
   "name": "python3"
  },
  "language_info": {
   "codemirror_mode": {
    "name": "ipython",
    "version": 3
   },
   "file_extension": ".py",
   "mimetype": "text/x-python",
   "name": "python",
   "nbconvert_exporter": "python",
   "pygments_lexer": "ipython3",
   "version": "3.13.1"
  }
 },
 "nbformat": 4,
 "nbformat_minor": 2
}
